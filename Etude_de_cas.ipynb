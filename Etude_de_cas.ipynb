{
  "nbformat": 4,
  "nbformat_minor": 0,
  "metadata": {
    "colab": {
      "provenance": []
    },
    "kernelspec": {
      "name": "python3",
      "display_name": "Python 3"
    },
    "language_info": {
      "name": "python"
    }
  },
  "cells": [
    {
      "cell_type": "markdown",
      "source": [
        "## Les dépendances :"
      ],
      "metadata": {
        "id": "1CagB-FAYVd4"
      }
    },
    {
      "cell_type": "code",
      "execution_count": 32,
      "metadata": {
        "id": "T2Mv5p_IFk30",
        "colab": {
          "base_uri": "https://localhost:8080/"
        },
        "outputId": "6f7733bd-c73d-4691-80d0-7fc22da9319b"
      },
      "outputs": [
        {
          "output_type": "stream",
          "name": "stderr",
          "text": [
            "[nltk_data] Downloading package stopwords to /root/nltk_data...\n",
            "[nltk_data]   Package stopwords is already up-to-date!\n"
          ]
        },
        {
          "output_type": "stream",
          "name": "stdout",
          "text": [
            "2023-11-29 23:36:19.401382: E tensorflow/compiler/xla/stream_executor/cuda/cuda_dnn.cc:9342] Unable to register cuDNN factory: Attempting to register factory for plugin cuDNN when one has already been registered\n",
            "2023-11-29 23:36:19.401475: E tensorflow/compiler/xla/stream_executor/cuda/cuda_fft.cc:609] Unable to register cuFFT factory: Attempting to register factory for plugin cuFFT when one has already been registered\n",
            "2023-11-29 23:36:19.401556: E tensorflow/compiler/xla/stream_executor/cuda/cuda_blas.cc:1518] Unable to register cuBLAS factory: Attempting to register factory for plugin cuBLAS when one has already been registered\n",
            "2023-11-29 23:36:20.866204: W tensorflow/compiler/tf2tensorrt/utils/py_utils.cc:38] TF-TRT Warning: Could not find TensorRT\n",
            "Collecting en-core-web-md==3.6.0\n",
            "  Downloading https://github.com/explosion/spacy-models/releases/download/en_core_web_md-3.6.0/en_core_web_md-3.6.0-py3-none-any.whl (42.8 MB)\n",
            "\u001b[2K     \u001b[90m━━━━━━━━━━━━━━━━━━━━━━━━━━━━━━━━━━━━━━━━\u001b[0m \u001b[32m42.8/42.8 MB\u001b[0m \u001b[31m17.2 MB/s\u001b[0m eta \u001b[36m0:00:00\u001b[0m\n",
            "\u001b[?25hRequirement already satisfied: spacy<3.7.0,>=3.6.0 in /usr/local/lib/python3.10/dist-packages (from en-core-web-md==3.6.0) (3.6.1)\n",
            "Requirement already satisfied: spacy-legacy<3.1.0,>=3.0.11 in /usr/local/lib/python3.10/dist-packages (from spacy<3.7.0,>=3.6.0->en-core-web-md==3.6.0) (3.0.12)\n",
            "Requirement already satisfied: spacy-loggers<2.0.0,>=1.0.0 in /usr/local/lib/python3.10/dist-packages (from spacy<3.7.0,>=3.6.0->en-core-web-md==3.6.0) (1.0.5)\n",
            "Requirement already satisfied: murmurhash<1.1.0,>=0.28.0 in /usr/local/lib/python3.10/dist-packages (from spacy<3.7.0,>=3.6.0->en-core-web-md==3.6.0) (1.0.10)\n",
            "Requirement already satisfied: cymem<2.1.0,>=2.0.2 in /usr/local/lib/python3.10/dist-packages (from spacy<3.7.0,>=3.6.0->en-core-web-md==3.6.0) (2.0.8)\n",
            "Requirement already satisfied: preshed<3.1.0,>=3.0.2 in /usr/local/lib/python3.10/dist-packages (from spacy<3.7.0,>=3.6.0->en-core-web-md==3.6.0) (3.0.9)\n",
            "Requirement already satisfied: thinc<8.2.0,>=8.1.8 in /usr/local/lib/python3.10/dist-packages (from spacy<3.7.0,>=3.6.0->en-core-web-md==3.6.0) (8.1.12)\n",
            "Requirement already satisfied: wasabi<1.2.0,>=0.9.1 in /usr/local/lib/python3.10/dist-packages (from spacy<3.7.0,>=3.6.0->en-core-web-md==3.6.0) (1.1.2)\n",
            "Requirement already satisfied: srsly<3.0.0,>=2.4.3 in /usr/local/lib/python3.10/dist-packages (from spacy<3.7.0,>=3.6.0->en-core-web-md==3.6.0) (2.4.8)\n",
            "Requirement already satisfied: catalogue<2.1.0,>=2.0.6 in /usr/local/lib/python3.10/dist-packages (from spacy<3.7.0,>=3.6.0->en-core-web-md==3.6.0) (2.0.10)\n",
            "Requirement already satisfied: typer<0.10.0,>=0.3.0 in /usr/local/lib/python3.10/dist-packages (from spacy<3.7.0,>=3.6.0->en-core-web-md==3.6.0) (0.9.0)\n",
            "Requirement already satisfied: pathy>=0.10.0 in /usr/local/lib/python3.10/dist-packages (from spacy<3.7.0,>=3.6.0->en-core-web-md==3.6.0) (0.10.3)\n",
            "Requirement already satisfied: smart-open<7.0.0,>=5.2.1 in /usr/local/lib/python3.10/dist-packages (from spacy<3.7.0,>=3.6.0->en-core-web-md==3.6.0) (6.4.0)\n",
            "Requirement already satisfied: tqdm<5.0.0,>=4.38.0 in /usr/local/lib/python3.10/dist-packages (from spacy<3.7.0,>=3.6.0->en-core-web-md==3.6.0) (4.66.1)\n",
            "Requirement already satisfied: numpy>=1.15.0 in /usr/local/lib/python3.10/dist-packages (from spacy<3.7.0,>=3.6.0->en-core-web-md==3.6.0) (1.23.5)\n",
            "Requirement already satisfied: requests<3.0.0,>=2.13.0 in /usr/local/lib/python3.10/dist-packages (from spacy<3.7.0,>=3.6.0->en-core-web-md==3.6.0) (2.31.0)\n",
            "Requirement already satisfied: pydantic!=1.8,!=1.8.1,<3.0.0,>=1.7.4 in /usr/local/lib/python3.10/dist-packages (from spacy<3.7.0,>=3.6.0->en-core-web-md==3.6.0) (1.10.13)\n",
            "Requirement already satisfied: jinja2 in /usr/local/lib/python3.10/dist-packages (from spacy<3.7.0,>=3.6.0->en-core-web-md==3.6.0) (3.1.2)\n",
            "Requirement already satisfied: setuptools in /usr/local/lib/python3.10/dist-packages (from spacy<3.7.0,>=3.6.0->en-core-web-md==3.6.0) (67.7.2)\n",
            "Requirement already satisfied: packaging>=20.0 in /usr/local/lib/python3.10/dist-packages (from spacy<3.7.0,>=3.6.0->en-core-web-md==3.6.0) (23.2)\n",
            "Requirement already satisfied: langcodes<4.0.0,>=3.2.0 in /usr/local/lib/python3.10/dist-packages (from spacy<3.7.0,>=3.6.0->en-core-web-md==3.6.0) (3.3.0)\n",
            "Requirement already satisfied: typing-extensions>=4.2.0 in /usr/local/lib/python3.10/dist-packages (from pydantic!=1.8,!=1.8.1,<3.0.0,>=1.7.4->spacy<3.7.0,>=3.6.0->en-core-web-md==3.6.0) (4.5.0)\n",
            "Requirement already satisfied: charset-normalizer<4,>=2 in /usr/local/lib/python3.10/dist-packages (from requests<3.0.0,>=2.13.0->spacy<3.7.0,>=3.6.0->en-core-web-md==3.6.0) (3.3.2)\n",
            "Requirement already satisfied: idna<4,>=2.5 in /usr/local/lib/python3.10/dist-packages (from requests<3.0.0,>=2.13.0->spacy<3.7.0,>=3.6.0->en-core-web-md==3.6.0) (3.4)\n",
            "Requirement already satisfied: urllib3<3,>=1.21.1 in /usr/local/lib/python3.10/dist-packages (from requests<3.0.0,>=2.13.0->spacy<3.7.0,>=3.6.0->en-core-web-md==3.6.0) (2.0.7)\n",
            "Requirement already satisfied: certifi>=2017.4.17 in /usr/local/lib/python3.10/dist-packages (from requests<3.0.0,>=2.13.0->spacy<3.7.0,>=3.6.0->en-core-web-md==3.6.0) (2023.7.22)\n",
            "Requirement already satisfied: blis<0.8.0,>=0.7.8 in /usr/local/lib/python3.10/dist-packages (from thinc<8.2.0,>=8.1.8->spacy<3.7.0,>=3.6.0->en-core-web-md==3.6.0) (0.7.11)\n",
            "Requirement already satisfied: confection<1.0.0,>=0.0.1 in /usr/local/lib/python3.10/dist-packages (from thinc<8.2.0,>=8.1.8->spacy<3.7.0,>=3.6.0->en-core-web-md==3.6.0) (0.1.3)\n",
            "Requirement already satisfied: click<9.0.0,>=7.1.1 in /usr/local/lib/python3.10/dist-packages (from typer<0.10.0,>=0.3.0->spacy<3.7.0,>=3.6.0->en-core-web-md==3.6.0) (8.1.7)\n",
            "Requirement already satisfied: MarkupSafe>=2.0 in /usr/local/lib/python3.10/dist-packages (from jinja2->spacy<3.7.0,>=3.6.0->en-core-web-md==3.6.0) (2.1.3)\n",
            "\u001b[38;5;2m✔ Download and installation successful\u001b[0m\n",
            "You can now load the package via spacy.load('en_core_web_md')\n"
          ]
        },
        {
          "output_type": "stream",
          "name": "stderr",
          "text": [
            "[nltk_data] Downloading package punkt to /root/nltk_data...\n",
            "[nltk_data]   Package punkt is already up-to-date!\n",
            "[nltk_data] Downloading package wordnet to /root/nltk_data...\n",
            "[nltk_data]   Package wordnet is already up-to-date!\n"
          ]
        }
      ],
      "source": [
        "import numpy as np\n",
        "import pandas as pd\n",
        "import nltk\n",
        "import re\n",
        "nltk.download('stopwords')\n",
        "from nltk.corpus import stopwords\n",
        "from nltk.stem.porter import PorterStemmer\n",
        "!python -m spacy download en_core_web_md\n",
        "import spacy\n",
        "from sklearn.model_selection import train_test_split\n",
        "from sklearn.metrics import accuracy_score, precision_score, recall_score, confusion_matrix\n",
        "import seaborn as sns\n",
        "import matplotlib.pyplot as plt\n",
        "from sklearn.preprocessing import LabelEncoder\n",
        "from keras.models import Sequential\n",
        "from keras.layers import Dense\n",
        "nltk.download('punkt')\n",
        "from spacy.lang.en import STOP_WORDS\n",
        "from nltk.corpus import wordnet\n",
        "import spacy\n",
        "from spacy.lang.en import STOP_WORDS\n",
        "from transformers import pipeline\n",
        "nltk.download('wordnet')\n",
        "import time\n"
      ]
    },
    {
      "cell_type": "code",
      "source": [
        "df = pd.read_csv('Restaurant_Reviews.tsv', delimiter='\\t', quoting=3)\n"
      ],
      "metadata": {
        "id": "Ii8F70rYFtea"
      },
      "execution_count": 33,
      "outputs": []
    },
    {
      "cell_type": "code",
      "source": [
        "\n",
        "# Charger le modèle spaCy avec embeddings de mots en anglais\n",
        "nlp = spacy.load('en_core_web_md')\n",
        "\n",
        "# Charger les données\n",
        "df = pd.read_csv('Restaurant_Reviews.tsv', delimiter='\\t', quoting=3)\n",
        "\n",
        "def preprocess_text(text):\n",
        "    doc = nlp(text)\n",
        "    return np.mean([token.vector for token in doc], axis=0)\n",
        "\n",
        "df['processed_review'] = df['Review'].apply(preprocess_text)\n",
        "\n",
        "# Diviser les données\n",
        "X_train, X_test, y_train, y_test = train_test_split(np.vstack(df['processed_review']), df['Liked'], test_size=0.2, random_state=42)\n",
        "\n",
        "# Encoder les labels\n",
        "label_encoder = LabelEncoder()\n",
        "y_train_encoded = label_encoder.fit_transform(y_train)\n",
        "y_test_encoded = label_encoder.transform(y_test)\n",
        "\n",
        "# Construire le modèle\n",
        "model = Sequential()\n",
        "model.add(Dense(128, input_dim=300, activation='relu'))\n",
        "model.add(Dense(1, activation='sigmoid'))\n",
        "model.compile(loss='binary_crossentropy', optimizer='adam', metrics=['accuracy'])\n",
        "\n",
        "# Entraîner le modèle\n",
        "model.fit(X_train, y_train_encoded, epochs=10, batch_size=32, validation_split=0.1)\n",
        "\n",
        "# Prédiction sur l'ensemble de test\n",
        "y_pred_prob = model.predict(X_test)\n",
        "y_pred = (y_pred_prob > 0.5).astype(int)\n",
        "\n",
        "# Évaluer le modèle\n",
        "accuracy = accuracy_score(y_test_encoded, y_pred)\n",
        "precision = precision_score(y_test_encoded, y_pred)\n",
        "recall = recall_score(y_test_encoded, y_pred)\n",
        "\n",
        "print(\"Accuracy:\", accuracy)\n",
        "print(\"Precision:\", precision)\n",
        "print(\"Recall:\", recall)\n",
        "\n",
        "# Afficher la matrice de confusion\n",
        "cm = confusion_matrix(y_test_encoded, y_pred)\n",
        "plt.figure(figsize=(8, 6))\n",
        "sns.heatmap(cm, annot=True, cmap=\"YlGnBu\", fmt='g', xticklabels=['Negative', 'Positive'], yticklabels=['Negative', 'Positive'])\n",
        "plt.xlabel('Predicted values')\n",
        "plt.ylabel('Actual values')\n",
        "plt.title('Confusion Matrix')\n",
        "plt.show()\n",
        "\n",
        "\n"
      ],
      "metadata": {
        "colab": {
          "base_uri": "https://localhost:8080/",
          "height": 981
        },
        "id": "e2ShVfiNFyoB",
        "outputId": "5c8bd811-80c5-49c0-df03-ec2cd8c5a943"
      },
      "execution_count": 34,
      "outputs": [
        {
          "output_type": "stream",
          "name": "stdout",
          "text": [
            "Epoch 1/10\n",
            "23/23 [==============================] - 2s 25ms/step - loss: 0.6768 - accuracy: 0.6472 - val_loss: 0.4883 - val_accuracy: 0.7375\n",
            "Epoch 2/10\n",
            "23/23 [==============================] - 0s 6ms/step - loss: 0.4715 - accuracy: 0.7583 - val_loss: 0.4141 - val_accuracy: 0.7875\n",
            "Epoch 3/10\n",
            "23/23 [==============================] - 0s 6ms/step - loss: 0.4150 - accuracy: 0.8083 - val_loss: 0.3736 - val_accuracy: 0.8625\n",
            "Epoch 4/10\n",
            "23/23 [==============================] - 0s 7ms/step - loss: 0.3581 - accuracy: 0.8347 - val_loss: 0.4390 - val_accuracy: 0.7875\n",
            "Epoch 5/10\n",
            "23/23 [==============================] - 0s 7ms/step - loss: 0.3572 - accuracy: 0.8292 - val_loss: 0.4368 - val_accuracy: 0.7875\n",
            "Epoch 6/10\n",
            "23/23 [==============================] - 0s 9ms/step - loss: 0.2963 - accuracy: 0.8889 - val_loss: 0.3987 - val_accuracy: 0.8125\n",
            "Epoch 7/10\n",
            "23/23 [==============================] - 0s 7ms/step - loss: 0.2750 - accuracy: 0.9014 - val_loss: 0.3425 - val_accuracy: 0.8500\n",
            "Epoch 8/10\n",
            "23/23 [==============================] - 0s 10ms/step - loss: 0.2708 - accuracy: 0.9028 - val_loss: 0.4340 - val_accuracy: 0.8125\n",
            "Epoch 9/10\n",
            "23/23 [==============================] - 0s 7ms/step - loss: 0.3061 - accuracy: 0.8639 - val_loss: 0.5004 - val_accuracy: 0.7750\n",
            "Epoch 10/10\n",
            "23/23 [==============================] - 0s 13ms/step - loss: 0.2495 - accuracy: 0.9042 - val_loss: 0.3244 - val_accuracy: 0.8625\n",
            "7/7 [==============================] - 0s 5ms/step\n",
            "Accuracy: 0.77\n",
            "Precision: 0.7589285714285714\n",
            "Recall: 0.8173076923076923\n"
          ]
        },
        {
          "output_type": "display_data",
          "data": {
            "text/plain": [
              "<Figure size 800x600 with 2 Axes>"
            ],
            "image/png": "[encoded data removed]"
          },
          "metadata": {}
        }
      ]
    },
    {
      "cell_type": "code",
      "source": [
        "#  Fonction pour prédire la polarité d'un nouvel avis\n",
        "def predict_polarity(new_review, threshold=0.5):\n",
        "\n",
        "    processed_new_review = preprocess_text(new_review)\n",
        "\n",
        "    # Effectuer la prédiction avec le modèle\n",
        "    new_review_embedding = processed_new_review.reshape(1, -1)\n",
        "    prediction_prob = model.predict(new_review_embedding)[0, 0]\n",
        "\n",
        "    # Utiliser un seuil pour décider de la classe prédite\n",
        "    predicted_label = 1 if prediction_prob >= threshold else 0\n",
        "\n",
        "    return prediction_prob, predicted_label\n"
      ],
      "metadata": {
        "id": "XGzpxK_5F2Tn"
      },
      "execution_count": 35,
      "outputs": []
    },
    {
      "cell_type": "markdown",
      "source": [
        "Exemple de prédiction avec la fonction predict_polarity"
      ],
      "metadata": {
        "id": "iIle77PuZGk7"
      }
    },
    {
      "cell_type": "code",
      "source": [
        "new_review = \"the food is very good. \"\n",
        "\n",
        "prob, label = predict_polarity(new_review)\n",
        "\n",
        "# Afficher la prédiction\n",
        "print(\"Probabilité de polarité positive:\", prob)\n",
        "print(\"Polarité prédite:\", label)\n"
      ],
      "metadata": {
        "colab": {
          "base_uri": "https://localhost:8080/"
        },
        "id": "JLKsE9RgIuut",
        "outputId": "28040b5c-bcec-4c00-bc97-004e0271251d"
      },
      "execution_count": 36,
      "outputs": [
        {
          "output_type": "stream",
          "name": "stdout",
          "text": [
            "1/1 [==============================] - 0s 38ms/step\n",
            "Probabilité de polarité positive: 0.8942814\n",
            "Polarité prédite: 1\n"
          ]
        }
      ]
    },
    {
      "cell_type": "markdown",
      "source": [
        "La fonction predict_polarity_per_sentence permet de diviser un avis en des phrases et prédit la polarité totale de l'avis de la manière suivante:\n",
        "si l'une des phrases a une polarité négative, tout l'avis est considéré comme négatif.\n",
        "Si toutes les phrases sont positives, l'avis est considéré comme positif.\n",
        "On a fait ce choix car la prédiction de la polarité a pour but de générer une réponse convenable à l'avis et si ça contient un commentaire négatif, la logique dit qu'on va répondre juste sur ce qui est négatif et le positif devient négligeable.\n"
      ],
      "metadata": {
        "id": "2yC4t7JlZQaa"
      }
    },
    {
      "cell_type": "code",
      "source": [
        "\n",
        "# Fonction pour diviser un avis en phrases et prédire la polarité de chaque phrase\n",
        "def predict_polarity_per_sentence(review, threshold=0.5):\n",
        "    # Utiliser la segmentation en phrases de nltk\n",
        "    sentences = nltk.sent_tokenize(review)\n",
        "\n",
        "    # Stocker les polarités prédites pour chaque phrase\n",
        "    polarities = []\n",
        "\n",
        "    # Stocker les phrases avec polarité négative\n",
        "    negative_sentences = []\n",
        "    positive_sentences=[]\n",
        "    for sentence in sentences:\n",
        "\n",
        "        # Exemple de prédiction (à remplacer par votre fonction)\n",
        "        prob, label = predict_polarity(sentence)\n",
        "        print (label)\n",
        "        print(sentence)\n",
        "        # Stocker la polarité prédite\n",
        "        polarities.append(label)\n",
        "\n",
        "        # Stocker la phrase si la polarité est négative\n",
        "        if label == 0:\n",
        "            negative_sentences.append(sentence)\n",
        "        else:\n",
        "            positive_sentences.append(sentence)\n",
        "    # Retourner la polarité totale et les phrases avec polarité négative\n",
        "    total_polarity = \"negative\" if 0 in polarities else \"positive\"\n",
        "    return total_polarity, negative_sentences,positive_sentences\n",
        "\n"
      ],
      "metadata": {
        "id": "fem4TzJmIw8_"
      },
      "execution_count": 37,
      "outputs": []
    },
    {
      "cell_type": "markdown",
      "source": [
        "Exemples d'utilisation de la fonction predict_polarity_per_sentence"
      ],
      "metadata": {
        "id": "fNl0JL9taKWy"
      }
    },
    {
      "cell_type": "code",
      "source": [
        "# Exemple d'utilisation\n",
        "example_review = \"the food was bad. the jenkins were nice and friendly\"\n",
        "total_polarity,negative_sentences,positive_sentences = predict_polarity_per_sentence(example_review)\n",
        "\n",
        "# Afficher la polarité totale prédite pour l'avis\n",
        "print(f\"Polarité totale de l'avis: {total_polarity}\")\n",
        "print(negative_sentences)\n"
      ],
      "metadata": {
        "colab": {
          "base_uri": "https://localhost:8080/"
        },
        "id": "hXVwRmW57NHP",
        "outputId": "0d2b586d-0662-4fb5-c509-54bc65c510a0"
      },
      "execution_count": 38,
      "outputs": [
        {
          "output_type": "stream",
          "name": "stdout",
          "text": [
            "1/1 [==============================] - 0s 43ms/step\n",
            "0\n",
            "the food was bad.\n",
            "1/1 [==============================] - 0s 37ms/step\n",
            "1\n",
            "the jenkins were nice and friendly\n",
            "Polarité totale de l'avis: negative\n",
            "['the food was bad.']\n"
          ]
        }
      ]
    },
    {
      "cell_type": "code",
      "source": [
        "revieew=\"the food was good. the waiters wer polite.\"\n",
        "total_polarity,negative_sentences,positive_sentences = predict_polarity_per_sentence(revieew)\n",
        "print(f\"Polarité totale de l'avis: {total_polarity}\")\n",
        "\n"
      ],
      "metadata": {
        "colab": {
          "base_uri": "https://localhost:8080/"
        },
        "id": "ezV5Km-UxJdJ",
        "outputId": "37487c47-e5bb-490f-f908-0d871324c9a8"
      },
      "execution_count": 39,
      "outputs": [
        {
          "output_type": "stream",
          "name": "stdout",
          "text": [
            "1/1 [==============================] - 0s 30ms/step\n",
            "0\n",
            "the food was good.\n",
            "1/1 [==============================] - 0s 35ms/step\n",
            "0\n",
            "the waiters wer polite.\n",
            "Polarité totale de l'avis: negative\n"
          ]
        }
      ]
    },
    {
      "cell_type": "markdown",
      "source": [
        "Fonction qui permet d'extraire les mots clés à partir d'un avis."
      ],
      "metadata": {
        "id": "JsGwnxVHT4BL"
      }
    },
    {
      "cell_type": "code",
      "source": [
        "\n",
        "def keyword_extractor(avis):\n",
        "    # Load the spaCy English model\n",
        "    nlp = spacy.load(\"en_core_web_sm\")\n",
        "\n",
        "    # Process the text with spaCy\n",
        "    doc = nlp(avis)\n",
        "\n",
        "    # Extract lemmatized words excluding stop words\n",
        "    keywords = [token.lemma_ for token in doc if token.text.lower() not in STOP_WORDS and token.text.lower() not in ' ']\n",
        "\n",
        "    # Display the extracted keywords\n",
        "    return keywords\n",
        "\n"
      ],
      "metadata": {
        "id": "kuh-KjkWTsVL"
      },
      "execution_count": 40,
      "outputs": []
    },
    {
      "cell_type": "code",
      "source": [
        "key_words=keyword_extractor(\" the dishes was good\")\n",
        "print(key_words)"
      ],
      "metadata": {
        "id": "Zx4jOtOMT2CI",
        "colab": {
          "base_uri": "https://localhost:8080/"
        },
        "outputId": "6eef5058-adcb-42ed-f508-13d62e53ab97"
      },
      "execution_count": 41,
      "outputs": [
        {
          "output_type": "stream",
          "name": "stdout",
          "text": [
            "['dish', 'good']\n"
          ]
        }
      ]
    },
    {
      "cell_type": "markdown",
      "source": [
        "Fonction qui donne les synonymes d'un mot\n",
        "On en aura besoin car on veut comparer les mots clés de l'avis et leurs synonymes aux mots clés des catégories"
      ],
      "metadata": {
        "id": "bdXypTFkak3e"
      }
    },
    {
      "cell_type": "code",
      "source": [
        "\n",
        "#Fonction utilisant wordnet pour avoir les synonymes d'un mot\n",
        "def get_synonyms(word):\n",
        "    synonyms = set()\n",
        "    for syn in wordnet.synsets(word):\n",
        "        for lemma in syn.lemmas():\n",
        "            synonyms.add(lemma.name())\n",
        "    return list(synonyms)\n",
        "\n",
        "\n",
        "word = \"bad\"\n",
        "synonyms = get_synonyms(word)\n",
        "print(f\"Synonyms for {word}: {synonyms}\")\n"
      ],
      "metadata": {
        "id": "WKrwl1LDrZ2f",
        "colab": {
          "base_uri": "https://localhost:8080/"
        },
        "outputId": "10c03be5-7003-436a-91d4-9fff3e141b86"
      },
      "execution_count": 42,
      "outputs": [
        {
          "output_type": "stream",
          "name": "stdout",
          "text": [
            "Synonyms for bad: ['risky', 'regretful', 'unfit', 'badly', 'unsound', 'forged', 'speculative', 'uncollectible', 'defective', 'spoilt', 'sorry', 'badness', 'big', 'bad', 'high-risk', 'tough', 'spoiled']\n"
          ]
        }
      ]
    },
    {
      "cell_type": "code",
      "source": [
        "\n",
        "\n",
        "# Fonction pour extraire les mots-clés et leurs synonymes d'un avis\n",
        "def extract_keywords_with_synonyms(review):\n",
        "    keywords = keyword_extractor(review)\n",
        "    keywords_with_synonyms = []\n",
        "\n",
        "    for keyword in keywords:\n",
        "        # Ajouter le mot-clé lui-même\n",
        "        keyword_with_synonyms = [keyword]\n",
        "\n",
        "        # Ajouter les synonymes du mot-clé\n",
        "        synonyms = get_synonyms(keyword)\n",
        "        keyword_with_synonyms += synonyms\n",
        "\n",
        "        # Ajouter à la liste des mots-clés avec synonymes\n",
        "        keywords_with_synonyms += keyword_with_synonyms\n",
        "\n",
        "    return keywords_with_synonyms\n",
        "\n",
        "# Exemple d'utilisation\n",
        "review = \"The food was delicious, and the service was excellent.\"\n",
        "result = extract_keywords_with_synonyms(review)\n",
        "print(result)\n"
      ],
      "metadata": {
        "colab": {
          "base_uri": "https://localhost:8080/"
        },
        "id": "mjmNWa_zDXHe",
        "outputId": "a28aa38d-901e-4491-f345-5afc68d2c86c"
      },
      "execution_count": 43,
      "outputs": [
        {
          "output_type": "stream",
          "name": "stdout",
          "text": [
            "['food', 'nutrient', 'solid_food', 'intellectual_nourishment', 'food_for_thought', 'food', 'delicious', 'pleasant-tasting', 'luscious', 'toothsome', 'Delicious', 'yummy', 'scrumptious', 'delicious', 'delectable', 'delightful', ',', 'service', 'religious_service', 'Robert_William_Service', 'inspection_and_repair', 'serving', 'service', 'armed_service', 'service_of_process', 'table_service', 'servicing', 'divine_service', 'military_service', 'help', 'serve', 'avail', 'Service', 'overhaul', 'excellent', 'fantabulous', 'first-class', 'splendid', 'excellent', '.']\n"
          ]
        }
      ]
    },
    {
      "cell_type": "markdown",
      "source": [
        "On a 6 catégories possibles qui peuvent etre accordés à un avis.\n",
        "Chaque catégorie a ses propres mots clés. ( une liste qui n'est pas prédéfinie, je l'ai définie et elle doit etre développée de plus pour couvrir plus de mots)"
      ],
      "metadata": {
        "id": "njFGXFZzbCAM"
      }
    },
    {
      "cell_type": "code",
      "source": [
        "categories_keywords = {\n",
        "        'Food': ['food', 'meal', 'dish', 'cuisine', 'flavor','cake','dessert','appetizer','beverage','pizza','pasta'],\n",
        "        'Service': ['service', 'waiter', 'staff', 'friendly','attitude','hospitality',''],\n",
        "        'Ambiance': ['ambiance', 'atmosphere', 'decor', 'music','setting','lighting',],\n",
        "        'Price/Quality': ['price', 'value', 'money','affordability','cost'],\n",
        "        'Overall Experience': ['experience', 'overall','dining','everything','nothing'],\n",
        "        'Cleanliness': ['cleanliness', 'hygiene','tidiness','sanitation','neatness']\n",
        "    }\n"
      ],
      "metadata": {
        "id": "K-BpR7BFc1WF"
      },
      "execution_count": 44,
      "outputs": []
    },
    {
      "cell_type": "markdown",
      "source": [
        "Fonction permettant de trouver la catégorie d'un avis. ceci est réalisé par la mesure de similarité entre les mots clés de l'avis et leurs synonymes et les mots clés des catégories."
      ],
      "metadata": {
        "id": "2aIqSrP5bZ0X"
      }
    },
    {
      "cell_type": "code",
      "source": [
        "def find_category(review):\n",
        "    # Load the spaCy English model\n",
        "    keywords_synonyms=[]\n",
        "    keywords=keyword_extractor(review)\n",
        "    nlp = spacy.load(\"en_core_web_sm\")\n",
        "\n",
        "    # Initialize variables for tracking maximum similarity and corresponding category\n",
        "    max_similarity = 0\n",
        "    best_category = None\n",
        "    #create synonyms for keyword of the review\n",
        "    for keyword in keywords:\n",
        "        synonyms=get_synonyms(keyword)\n",
        "        keywords_synonyms.append(synonyms)\n",
        "    # Iterate through categories and calculate similarity\n",
        "    for category, category_keywords in categories_keywords.items():\n",
        "        # Calculate similarity using Jaccard similarity coefficient\n",
        "        similarity = len(set(keywords) & set(category_keywords)) / len(set(keywords) | set(category_keywords))\n",
        "\n",
        "        # Update max_similarity and best_category if the current category has higher similarity\n",
        "        if similarity > max_similarity:\n",
        "            max_similarity = similarity\n",
        "            best_category = category\n",
        "    if (best_category == None):\n",
        "        best_category='Overall Experience'\n",
        "\n",
        "    return best_category\n",
        "\n"
      ],
      "metadata": {
        "id": "xGkxQyZIbYUE"
      },
      "execution_count": 45,
      "outputs": []
    },
    {
      "cell_type": "code",
      "source": [
        "category = find_category(\"everything was bad\")\n",
        "print(f\"The category for the review is: {category}\")\n"
      ],
      "metadata": {
        "colab": {
          "base_uri": "https://localhost:8080/"
        },
        "id": "S8XoCozUgJKG",
        "outputId": "a6564a1b-87b4-4a8c-aadb-eeecbe493e35"
      },
      "execution_count": 46,
      "outputs": [
        {
          "output_type": "stream",
          "name": "stdout",
          "text": [
            "The category for the review is: Overall Experience\n"
          ]
        }
      ]
    },
    {
      "cell_type": "code",
      "source": [
        "#another way to determine polarity of review\n",
        "#from transformers import pipeline\n",
        "#sentiment_pipeline = pipeline(\"sentiment-analysis\")\n",
        "#data = [\" the jenkins were nice\", \"the food was horrible\"]\n",
        "#sentiment_pipeline(data)\n",
        "\n"
      ],
      "metadata": {
        "id": "xpLg_kyDgtcQ"
      },
      "execution_count": 47,
      "outputs": []
    },
    {
      "cell_type": "markdown",
      "source": [
        "Fonction permettant l'extraction du sentiment à partir d'un avis"
      ],
      "metadata": {
        "id": "j12vB9bubrTq"
      }
    },
    {
      "cell_type": "code",
      "source": [
        "def feeling(review):\n",
        "    classifier = pipeline(\"text-classification\", model=\"j-hartmann/emotion-english-distilroberta-base\", return_all_scores=True)\n",
        "    result=classifier(review)\n",
        "    max_score_label = max(result[0], key=lambda x: x['score'])['label']\n",
        "    max_score = max(result[0], key=lambda x: x['score'])['score']\n",
        "    return (max_score_label)\n",
        "\n"
      ],
      "metadata": {
        "id": "I6yceqZxmBXt"
      },
      "execution_count": 48,
      "outputs": []
    },
    {
      "cell_type": "code",
      "source": [
        "sentiment=feeling(\"i am disgusted with the food eu3\")\n",
        "print(sentiment)"
      ],
      "metadata": {
        "id": "c1Ht2DcdKWvk",
        "colab": {
          "base_uri": "https://localhost:8080/"
        },
        "outputId": "f1f837c6-9261-4c80-dc5e-636458629879"
      },
      "execution_count": 49,
      "outputs": [
        {
          "output_type": "stream",
          "name": "stdout",
          "text": [
            "disgust\n"
          ]
        },
        {
          "output_type": "stream",
          "name": "stderr",
          "text": [
            "/usr/local/lib/python3.10/dist-packages/transformers/pipelines/text_classification.py:105: UserWarning: `return_all_scores` is now deprecated,  if want a similar functionality use `top_k=None` instead of `return_all_scores=True` or `top_k=1` instead of `return_all_scores=False`.\n",
            "  warnings.warn(\n"
          ]
        }
      ]
    },
    {
      "cell_type": "markdown",
      "source": [
        "# Notre pipeline\n"
      ],
      "metadata": {
        "id": "W0BD7rNxb1W2"
      }
    },
    {
      "cell_type": "code",
      "source": [
        "def review_analysis_pipeline(review):\n",
        "    response=''\n",
        "    total_polarity, negative_sentences, positive_sentences = predict_polarity_per_sentence(review)\n",
        "    if total_polarity == \"positive\":\n",
        "        feel=feeling(review)\n",
        "        categories=[]\n",
        "        for sentence in positive_sentences:\n",
        "            category=find_category(sentence)\n",
        "            categories.append(category)\n",
        "        if len(categories) == 1 :\n",
        "            if categories[0] == \"Food\":\n",
        "                response=\"Thank you for your positive review! Your \"+feel+\" matters! We are happy that you enjoyed our food!Looking forward to serving you again.\"\n",
        "            if categories[0] ==\"Service\":\n",
        "                response=\"Thank you for your positive review! Thank you for your kind words about our service! We appreciate your positive feedback and your \"+feel+\" does really matter! We look forward to serving you again\"\n",
        "            if categories[0] ==\"Ambiance\":\n",
        "                response=\"Thank you for your positive review! We're thrilled you loved the ambiance! Your \"+feel+\" means a lot to us. Looking forward to your next visit.\"\n",
        "            if categories[0] ==\"Price/Quality\":\n",
        "                response=\"Hello and thank you for your positive feedback on the value we provide! We're delighted to hear you found our offerings worth the price. Your \"+ feel+\" is our priority, and we can't wait to welcome you back for another great experience.\"\n",
        "            if categories[0] ==\"Overall Experience\":\n",
        "                response=\"Hello! We're thrilled to hear you had a positive overall experience with us. Your \"+feel+\" is our priority, and we can't wait to welcome you back for another great visit. Thank you for your kind words!\"\n",
        "            if categories[0]==\"Cleanliness\":\n",
        "                response=\"Hello and thank you for your positive feedback on the cleanliness of our establishment! \"\n",
        "        elif len(categories) == 2 :\n",
        "            response=\"Thank you for your positive review! We're delighted that you appreciated our \"+categories[0]+\" and \"+categories[1]+ \". Looking forward to serving you again.\"\n",
        "\n",
        "    elif total_polarity ==\"negative\":\n",
        "        feel=feeling(review)\n",
        "        categories=[]\n",
        "        for sentence in negative_sentences:\n",
        "            category=find_category(sentence)\n",
        "            categories.append(category)\n",
        "        if len(categories) == 1 :\n",
        "\n",
        "            response=\"Greetings! We're sorry to hear about your experience with our \"+categories[0]+\" Your feedback is valuable, and we'd like to address any concerns you have. Please let us know how we can enhance your experience next time.\"\n",
        "        elif len(categories) == 2:\n",
        "            response=\"Greetings! We are sorry to hear about your experience with our \"+categories[0]+\" and \"+categories[1]+\" Your feedback is valuable, and we'd like to address any concerns you have. Please let us know how we can enhance your experience next time.\"\n",
        "\n",
        "\n",
        "    return response\n",
        "\n"
      ],
      "metadata": {
        "id": "tu0RMd_XLjpB"
      },
      "execution_count": 50,
      "outputs": []
    },
    {
      "cell_type": "code",
      "source": [
        "# Exemple d'utilisation du pipeline avec un avis\n",
        "example_review = \"The service was excellent\"\n",
        "response = review_analysis_pipeline(example_review)\n",
        "print(response)\n"
      ],
      "metadata": {
        "colab": {
          "base_uri": "https://localhost:8080/"
        },
        "id": "-MaG6GfFLjb5",
        "outputId": "c79359a8-2787-4f70-9029-a0f80de169b7"
      },
      "execution_count": 51,
      "outputs": [
        {
          "output_type": "stream",
          "name": "stdout",
          "text": [
            "1/1 [==============================] - 0s 46ms/step\n",
            "1\n",
            "The service was excellent\n",
            "Thank you for your positive review! Thank you for your kind words about our service! We appreciate your positive feedback and your joy does really matter! We look forward to serving you again\n"
          ]
        }
      ]
    },
    {
      "cell_type": "code",
      "source": [
        "example_review = \"The food was horrible\"\n",
        "response = review_analysis_pipeline(example_review)\n",
        "print(response)\n"
      ],
      "metadata": {
        "colab": {
          "base_uri": "https://localhost:8080/"
        },
        "id": "wUM5fw_jLjMU",
        "outputId": "74b63581-0e37-42b7-88e9-3375f7bd3509"
      },
      "execution_count": 52,
      "outputs": [
        {
          "output_type": "stream",
          "name": "stdout",
          "text": [
            "1/1 [==============================] - 0s 37ms/step\n",
            "0\n",
            "The food was horrible\n",
            "Greetings! We're sorry to hear about your experience with our Food Your feedback is valuable, and we'd like to address any concerns you have. Please let us know how we can enhance your experience next time.\n"
          ]
        }
      ]
    },
    {
      "cell_type": "code",
      "source": [
        "example_review = \"The food was horrible. the waiters were so impolite.\"\n",
        "response = review_analysis_pipeline(example_review)\n",
        "print(response)\n"
      ],
      "metadata": {
        "colab": {
          "base_uri": "https://localhost:8080/"
        },
        "id": "ffFNEyqFfHWK",
        "outputId": "73c292c1-82da-4a57-dbb2-cafb16e959f2"
      },
      "execution_count": 53,
      "outputs": [
        {
          "output_type": "stream",
          "name": "stdout",
          "text": [
            "1/1 [==============================] - 0s 39ms/step\n",
            "0\n",
            "The food was horrible.\n",
            "1/1 [==============================] - 0s 71ms/step\n",
            "0\n",
            "the waiters were so impolite.\n",
            "Greetings! We are sorry to hear about your experience with our Food and Service Your feedback is valuable, and we'd like to address any concerns you have. Please let us know how we can enhance your experience next time.\n"
          ]
        }
      ]
    },
    {
      "cell_type": "code",
      "source": [
        "exemple_review=\"The food was very tasting. The waiters were very polite and kind!\"\n",
        "response = review_analysis_pipeline(exemple_review)\n",
        "print(response)\n"
      ],
      "metadata": {
        "colab": {
          "base_uri": "https://localhost:8080/"
        },
        "id": "ehhdjPVl9Ubh",
        "outputId": "f075481c-2f31-4405-e64b-6320bce1a404"
      },
      "execution_count": 54,
      "outputs": [
        {
          "output_type": "stream",
          "name": "stdout",
          "text": [
            "1/1 [==============================] - 0s 57ms/step\n",
            "0\n",
            "The food was very tasting.\n",
            "1/1 [==============================] - 0s 102ms/step\n",
            "1\n",
            "The waiters were very polite and kind!\n",
            "Greetings! We're sorry to hear about your experience with our Food Your feedback is valuable, and we'd like to address any concerns you have. Please let us know how we can enhance your experience next time.\n"
          ]
        }
      ]
    },
    {
      "cell_type": "code",
      "source": [
        "exemple_review=\"I didnt like the music also.\"\n",
        "response = review_analysis_pipeline(exemple_review)\n",
        "print(response)\n"
      ],
      "metadata": {
        "colab": {
          "base_uri": "https://localhost:8080/"
        },
        "id": "TQl_Qh16AfDp",
        "outputId": "cc0728a0-f594-4f21-86a2-a7c3f9321f05"
      },
      "execution_count": 55,
      "outputs": [
        {
          "output_type": "stream",
          "name": "stdout",
          "text": [
            "1/1 [==============================] - 0s 51ms/step\n",
            "1\n",
            "I didnt like the music also.\n",
            "Thank you for your positive review! We're thrilled you loved the ambiance! Your disgust means a lot to us. Looking forward to your next visit.\n"
          ]
        }
      ]
    },
    {
      "cell_type": "markdown",
      "source": [
        "Temps de réponse en utilisant Time"
      ],
      "metadata": {
        "id": "E9j4Vo6gcGb8"
      }
    },
    {
      "cell_type": "code",
      "source": [
        "my_reviews=['The waiters were so cheerful and very helpful','the food was bad', 'everything was excellent','waiters were impolite', 'the music is so bad']\n",
        "times=[]\n",
        "somme=0\n",
        "for review in my_reviews:\n",
        "\n",
        "  start_time = time.time()\n",
        "  response = review_analysis_pipeline(review)\n",
        "  print(response)\n",
        "  end_time = time.time()\n",
        "  processing_time = end_time - start_time\n",
        "  times.append(processing_time)\n",
        "for temps in times:\n",
        "  somme=somme+temps\n",
        "moyenne=somme/len(times)\n",
        "print(\"le temps de réponse moyen est : \",moyenne)"
      ],
      "metadata": {
        "id": "lAX7RJlOfX8P",
        "colab": {
          "base_uri": "https://localhost:8080/"
        },
        "outputId": "ac434370-2c31-4bd1-ac20-fd3906e0750b"
      },
      "execution_count": 56,
      "outputs": [
        {
          "output_type": "stream",
          "name": "stdout",
          "text": [
            "1/1 [==============================] - 0s 35ms/step\n",
            "1\n",
            "The waiters were so cheerful and very helpful\n",
            "Thank you for your positive review! Thank you for your kind words about our service! We appreciate your positive feedback and your joy does really matter! We look forward to serving you again\n",
            "1/1 [==============================] - 0s 33ms/step\n",
            "0\n",
            "the food was bad\n",
            "Greetings! We're sorry to hear about your experience with our Food Your feedback is valuable, and we'd like to address any concerns you have. Please let us know how we can enhance your experience next time.\n",
            "1/1 [==============================] - 0s 22ms/step\n",
            "1\n",
            "everything was excellent\n",
            "Hello! We're thrilled to hear you had a positive overall experience with us. Your joy is our priority, and we can't wait to welcome you back for another great visit. Thank you for your kind words!\n",
            "1/1 [==============================] - 0s 29ms/step\n",
            "0\n",
            "waiters were impolite\n",
            "Greetings! We're sorry to hear about your experience with our Service Your feedback is valuable, and we'd like to address any concerns you have. Please let us know how we can enhance your experience next time.\n",
            "1/1 [==============================] - 0s 22ms/step\n",
            "1\n",
            "the music is so bad\n",
            "Thank you for your positive review! We're thrilled you loved the ambiance! Your sadness means a lot to us. Looking forward to your next visit.\n",
            "le temps de réponse moyen est :  3.5135094165802\n"
          ]
        }
      ]
    },
    {
      "cell_type": "code",
      "source": [
        "exemple_review=\"waiters were good. food was good too\"\n",
        "response = review_analysis_pipeline(exemple_review)\n",
        "print(response)\n"
      ],
      "metadata": {
        "id": "MG9IqZinNrTW",
        "colab": {
          "base_uri": "https://localhost:8080/"
        },
        "outputId": "f0e9ac45-1dce-451e-b4d5-474998c16dc4"
      },
      "execution_count": 57,
      "outputs": [
        {
          "output_type": "stream",
          "name": "stdout",
          "text": [
            "1/1 [==============================] - 0s 21ms/step\n",
            "1\n",
            "waiters were good.\n",
            "1/1 [==============================] - 0s 25ms/step\n",
            "1\n",
            "food was good too\n",
            "Thank you for your positive review! We're delighted that you appreciated our Service and Food. Looking forward to serving you again.\n"
          ]
        }
      ]
    }
  ]
}